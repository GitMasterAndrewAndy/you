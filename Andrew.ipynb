{
 "cells": [
  {
   "cell_type": "code",
   "execution_count": 1,
   "id": "9c680fac",
   "metadata": {},
   "outputs": [
    {
     "name": "stdout",
     "output_type": "stream",
     "text": [
      "Requirement already satisfied: pandas in d:\\anaconda\\lib\\site-packages (1.2.4)\n",
      "Requirement already satisfied: numpy>=1.16.5 in d:\\anaconda\\lib\\site-packages (from pandas) (1.20.1)\n",
      "Requirement already satisfied: pytz>=2017.3 in d:\\anaconda\\lib\\site-packages (from pandas) (2021.1)\n",
      "Requirement already satisfied: python-dateutil>=2.7.3 in d:\\anaconda\\lib\\site-packages (from pandas) (2.8.1)\n",
      "Requirement already satisfied: six>=1.5 in d:\\anaconda\\lib\\site-packages (from python-dateutil>=2.7.3->pandas) (1.15.0)\n"
     ]
    }
   ],
   "source": [
    "!pip install pandas"
   ]
  },
  {
   "cell_type": "code",
   "execution_count": 2,
   "id": "f428b2cb",
   "metadata": {},
   "outputs": [],
   "source": [
    "import pandas as pd"
   ]
  },
  {
   "cell_type": "code",
   "execution_count": 3,
   "id": "7b545798",
   "metadata": {},
   "outputs": [
    {
     "ename": "SyntaxError",
     "evalue": "(unicode error) 'unicodeescape' codec can't decode bytes in position 12-13: truncated \\UXXXXXXXX escape (<ipython-input-3-2f31ae8ae056>, line 1)",
     "output_type": "error",
     "traceback": [
      "\u001b[1;36m  File \u001b[1;32m\"<ipython-input-3-2f31ae8ae056>\"\u001b[1;36m, line \u001b[1;32m1\u001b[0m\n\u001b[1;33m    df = pd.read_csv(\"‪C:\\Users\\user\\student_marks.csv\")\u001b[0m\n\u001b[1;37m                     ^\u001b[0m\n\u001b[1;31mSyntaxError\u001b[0m\u001b[1;31m:\u001b[0m (unicode error) 'unicodeescape' codec can't decode bytes in position 12-13: truncated \\UXXXXXXXX escape\n"
     ]
    }
   ],
   "source": [
    "df = pd.read_csv(\"‪C:\\Users\\user\\student_marks.csv\")"
   ]
  },
  {
   "cell_type": "code",
   "execution_count": 4,
   "id": "0bc7675b",
   "metadata": {},
   "outputs": [],
   "source": [
    "df = pd.read_csv(r\"C:\\Users\\user\\student_marks.csv\")"
   ]
  },
  {
   "cell_type": "code",
   "execution_count": 5,
   "id": "06e9279a",
   "metadata": {},
   "outputs": [
    {
     "name": "stdout",
     "output_type": "stream",
     "text": [
      "   Student_ID  Test_1  Test_2  Test_3  Test_4  Test_5  Test_6  Test_7  Test_8  \\\n",
      "0       22000      78      87      91      91      88      98      94     100   \n",
      "1       22001      79      71      81      72      73      68      59      69   \n",
      "2       22002      66      65      70      74      78      86      87      96   \n",
      "3       22003      60      58      54      61      54      57      64      62   \n",
      "4       22004      99      95      96      93      97      89      92      98   \n",
      "\n",
      "   Test_9  Test_10  Test_11  Test_12  \n",
      "0     100      100      100       93  \n",
      "1      59       60       61       67  \n",
      "2      88       82       90       86  \n",
      "3      72       63       72       76  \n",
      "4      91       98       95       88  \n"
     ]
    }
   ],
   "source": [
    "print(df.head())"
   ]
  },
  {
   "cell_type": "code",
   "execution_count": 6,
   "id": "63108cfd",
   "metadata": {},
   "outputs": [
    {
     "name": "stdout",
     "output_type": "stream",
     "text": [
      "<class 'pandas.core.frame.DataFrame'>\n",
      "RangeIndex: 56 entries, 0 to 55\n",
      "Data columns (total 13 columns):\n",
      " #   Column      Non-Null Count  Dtype\n",
      "---  ------      --------------  -----\n",
      " 0   Student_ID  56 non-null     int64\n",
      " 1   Test_1      56 non-null     int64\n",
      " 2   Test_2      56 non-null     int64\n",
      " 3   Test_3      56 non-null     int64\n",
      " 4   Test_4      56 non-null     int64\n",
      " 5   Test_5      56 non-null     int64\n",
      " 6   Test_6      56 non-null     int64\n",
      " 7   Test_7      56 non-null     int64\n",
      " 8   Test_8      56 non-null     int64\n",
      " 9   Test_9      56 non-null     int64\n",
      " 10  Test_10     56 non-null     int64\n",
      " 11  Test_11     56 non-null     int64\n",
      " 12  Test_12     56 non-null     int64\n",
      "dtypes: int64(13)\n",
      "memory usage: 5.8 KB\n",
      "None\n"
     ]
    }
   ],
   "source": [
    "print(df.info())"
   ]
  },
  {
   "cell_type": "code",
   "execution_count": 7,
   "id": "82c930e1",
   "metadata": {},
   "outputs": [],
   "source": [
    "#the first i printed the head to show student ID corresponding to thier test result\n"
   ]
  },
  {
   "cell_type": "code",
   "execution_count": 8,
   "id": "567883f6",
   "metadata": {},
   "outputs": [],
   "source": [
    "import numpy as np"
   ]
  },
  {
   "cell_type": "code",
   "execution_count": 9,
   "id": "a6ae4cdf",
   "metadata": {},
   "outputs": [],
   "source": [
    "#Calculate the mean:"
   ]
  },
  {
   "cell_type": "code",
   "execution_count": 10,
   "id": "4aa8c361",
   "metadata": {},
   "outputs": [],
   "source": [
    "data = {\n",
    "    'Student_ID': [22000, 22001, 22002, 22003, 22004],\n",
    "    'Test_1': [78, 79, 66, 60, 99],\n",
    "    'Test_2': [87, 71, 65, 58, 95],\n",
    "    'Test_3': [91, 81, 70, 54, 96],\n",
    "    'Test_4': [91, 72, 74, 61, 93],\n",
    "    'Test_5': [88, 73, 78, 54, 97],\n",
    "    'Test_6': [98, 68, 86, 57, 89],\n",
    "    'Test_7': [94, 59, 87, 64, 92],\n",
    "    'Test_8': [100, 69, 96, 62, 98],\n",
    "    'Test_9': [100, 59, 88, 72, 91],\n",
    "    'Test_10': [100, 60, 82, 63, 98],\n",
    "    'Test_11': [100, 61, 90, 72, 95],\n",
    "    'Test_12': [93, 67, 86, 76, 88]\n",
    "}"
   ]
  },
  {
   "cell_type": "code",
   "execution_count": 11,
   "id": "c9a44de2",
   "metadata": {},
   "outputs": [],
   "source": [
    "df = pd.DataFrame(data)"
   ]
  },
  {
   "cell_type": "code",
   "execution_count": 12,
   "id": "f433a33e",
   "metadata": {},
   "outputs": [],
   "source": [
    "mean_values = df.mean()"
   ]
  },
  {
   "cell_type": "code",
   "execution_count": 13,
   "id": "a7fddce7",
   "metadata": {},
   "outputs": [],
   "source": [
    "median_values = df.median()"
   ]
  },
  {
   "cell_type": "code",
   "execution_count": 14,
   "id": "2cb56a53",
   "metadata": {},
   "outputs": [],
   "source": [
    "std_values = df.std()"
   ]
  },
  {
   "cell_type": "code",
   "execution_count": 15,
   "id": "22c118a6",
   "metadata": {},
   "outputs": [],
   "source": [
    "quartiles_values = df.quantile([0.25, 0.50, 0.75])"
   ]
  },
  {
   "cell_type": "code",
   "execution_count": 16,
   "id": "8826f82d",
   "metadata": {},
   "outputs": [
    {
     "name": "stdout",
     "output_type": "stream",
     "text": [
      "Mean:\n",
      "Student_ID    22002.0\n",
      "Test_1           76.4\n",
      "Test_2           75.2\n",
      "Test_3           78.4\n",
      "Test_4           78.2\n",
      "Test_5           78.0\n",
      "Test_6           79.6\n",
      "Test_7           79.2\n",
      "Test_8           85.0\n",
      "Test_9           82.0\n",
      "Test_10          80.6\n",
      "Test_11          83.6\n",
      "Test_12          82.0\n",
      "dtype: float64\n"
     ]
    }
   ],
   "source": [
    "print(\"Mean:\")\n",
    "print(mean_values)"
   ]
  },
  {
   "cell_type": "code",
   "execution_count": 17,
   "id": "ec79069b",
   "metadata": {},
   "outputs": [
    {
     "name": "stdout",
     "output_type": "stream",
     "text": [
      "Median:\n",
      "Student_ID    22002.0\n",
      "Test_1           78.0\n",
      "Test_2           71.0\n",
      "Test_3           81.0\n",
      "Test_4           74.0\n",
      "Test_5           78.0\n",
      "Test_6           86.0\n",
      "Test_7           87.0\n",
      "Test_8           96.0\n",
      "Test_9           88.0\n",
      "Test_10          82.0\n",
      "Test_11          90.0\n",
      "Test_12          86.0\n",
      "dtype: float64\n"
     ]
    }
   ],
   "source": [
    "print(\"Median:\")\n",
    "print(median_values)"
   ]
  },
  {
   "cell_type": "code",
   "execution_count": 18,
   "id": "f240a2f6",
   "metadata": {},
   "outputs": [
    {
     "name": "stdout",
     "output_type": "stream",
     "text": [
      "Standard Deviation:\n",
      "Student_ID     1.581139\n",
      "Test_1        14.976648\n",
      "Test_2        15.401299\n",
      "Test_3        16.890826\n",
      "Test_4        13.553597\n",
      "Test_5        16.294171\n",
      "Test_6        16.682326\n",
      "Test_7        16.452963\n",
      "Test_8        18.027756\n",
      "Test_9        16.355427\n",
      "Test_10       18.809572\n",
      "Test_11       16.471187\n",
      "Test_12       10.416333\n",
      "dtype: float64\n"
     ]
    }
   ],
   "source": [
    "print(\"Standard Deviation:\")\n",
    "print(std_values)"
   ]
  },
  {
   "cell_type": "code",
   "execution_count": 20,
   "id": "01e12241",
   "metadata": {},
   "outputs": [
    {
     "name": "stdout",
     "output_type": "stream",
     "text": [
      "Quartiles:\n",
      "      Student_ID  Test_1  Test_2  Test_3  Test_4  Test_5  Test_6  Test_7  \\\n",
      "0.25     22001.0    66.0    65.0    70.0    72.0    73.0    68.0    64.0   \n",
      "0.50     22002.0    78.0    71.0    81.0    74.0    78.0    86.0    87.0   \n",
      "0.75     22003.0    79.0    87.0    91.0    91.0    88.0    89.0    92.0   \n",
      "\n",
      "      Test_8  Test_9  Test_10  Test_11  Test_12  \n",
      "0.25    69.0    72.0     63.0     72.0     76.0  \n",
      "0.50    96.0    88.0     82.0     90.0     86.0  \n",
      "0.75    98.0    91.0     98.0     95.0     88.0  \n"
     ]
    }
   ],
   "source": [
    "print(\"Quartiles:\")\n",
    "print(quartiles_values)"
   ]
  },
  {
   "cell_type": "code",
   "execution_count": 21,
   "id": "60a38405",
   "metadata": {},
   "outputs": [],
   "source": [
    "import matplotlib.pyplot as plt"
   ]
  },
  {
   "cell_type": "code",
   "execution_count": 22,
   "id": "41e6f325",
   "metadata": {},
   "outputs": [],
   "source": [
    "# Bar chart for means"
   ]
  },
  {
   "cell_type": "code",
   "execution_count": 24,
   "id": "e0981524",
   "metadata": {},
   "outputs": [
    {
     "ename": "NameError",
     "evalue": "name 'mean' is not defined",
     "output_type": "error",
     "traceback": [
      "\u001b[1;31m---------------------------------------------------------------------------\u001b[0m",
      "\u001b[1;31mNameError\u001b[0m                                 Traceback (most recent call last)",
      "\u001b[1;32m<ipython-input-24-8a6760533bb7>\u001b[0m in \u001b[0;36m<module>\u001b[1;34m\u001b[0m\n\u001b[0;32m      1\u001b[0m \u001b[0mplt\u001b[0m\u001b[1;33m.\u001b[0m\u001b[0mfigure\u001b[0m\u001b[1;33m(\u001b[0m\u001b[0mfigsize\u001b[0m\u001b[1;33m=\u001b[0m\u001b[1;33m(\u001b[0m\u001b[1;36m10\u001b[0m\u001b[1;33m,\u001b[0m \u001b[1;36m5\u001b[0m\u001b[1;33m)\u001b[0m\u001b[1;33m)\u001b[0m\u001b[1;33m\u001b[0m\u001b[1;33m\u001b[0m\u001b[0m\n\u001b[1;32m----> 2\u001b[1;33m \u001b[0mplt\u001b[0m\u001b[1;33m.\u001b[0m\u001b[0mbar\u001b[0m\u001b[1;33m(\u001b[0m\u001b[0mmean\u001b[0m\u001b[1;33m.\u001b[0m\u001b[0mindex\u001b[0m\u001b[1;33m,\u001b[0m \u001b[0mmean\u001b[0m\u001b[1;33m.\u001b[0m\u001b[0mvalues\u001b[0m\u001b[1;33m)\u001b[0m\u001b[1;33m\u001b[0m\u001b[1;33m\u001b[0m\u001b[0m\n\u001b[0m\u001b[0;32m      3\u001b[0m \u001b[0mplt\u001b[0m\u001b[1;33m.\u001b[0m\u001b[0mxlabel\u001b[0m\u001b[1;33m(\u001b[0m\u001b[1;34m'Tests'\u001b[0m\u001b[1;33m)\u001b[0m\u001b[1;33m\u001b[0m\u001b[1;33m\u001b[0m\u001b[0m\n\u001b[0;32m      4\u001b[0m \u001b[0mplt\u001b[0m\u001b[1;33m.\u001b[0m\u001b[0mylabel\u001b[0m\u001b[1;33m(\u001b[0m\u001b[1;34m'Mean Score'\u001b[0m\u001b[1;33m)\u001b[0m\u001b[1;33m\u001b[0m\u001b[1;33m\u001b[0m\u001b[0m\n\u001b[0;32m      5\u001b[0m \u001b[0mplt\u001b[0m\u001b[1;33m.\u001b[0m\u001b[0mtitle\u001b[0m\u001b[1;33m(\u001b[0m\u001b[1;34m'Mean Scores for Each Test'\u001b[0m\u001b[1;33m)\u001b[0m\u001b[1;33m\u001b[0m\u001b[1;33m\u001b[0m\u001b[0m\n",
      "\u001b[1;31mNameError\u001b[0m: name 'mean' is not defined"
     ]
    },
    {
     "data": {
      "text/plain": [
       "<Figure size 720x360 with 0 Axes>"
      ]
     },
     "metadata": {},
     "output_type": "display_data"
    }
   ],
   "source": [
    "plt.figure(figsize=(10, 5))\n",
    "plt.bar(mean.index, mean.values)\n",
    "plt.xlabel('Tests')\n",
    "plt.ylabel('Mean Score')\n",
    "plt.title('Mean Scores for Each Test')\n"
   ]
  },
  {
   "cell_type": "code",
   "execution_count": null,
   "id": "80fbd765",
   "metadata": {},
   "outputs": [],
   "source": [
    "plt.show()"
   ]
  },
  {
   "cell_type": "code",
   "execution_count": 25,
   "id": "53779e1a",
   "metadata": {},
   "outputs": [],
   "source": [
    "means = df.mean()\n",
    "medians = df.median()\n",
    "std_devs = df.std()"
   ]
  },
  {
   "cell_type": "code",
   "execution_count": 26,
   "id": "c5ef6855",
   "metadata": {},
   "outputs": [],
   "source": [
    "# creating Bar chart for means"
   ]
  },
  {
   "cell_type": "code",
   "execution_count": 28,
   "id": "b10f8dcc",
   "metadata": {},
   "outputs": [
    {
     "data": {
      "image/png": "[encoded data removed]",
      "text/plain": [
       "<Figure size 720x360 with 1 Axes>"
      ]
     },
     "metadata": {
      "needs_background": "light"
     },
     "output_type": "display_data"
    }
   ],
   "source": [
    "plt.figure(figsize=(10, 5))\n",
    "plt.bar(means.index[1:], means.values[1:])\n",
    "plt.xlabel('Tests')\n",
    "plt.ylabel('Mean Score')\n",
    "plt.title('Mean Scores for Each Test')\n",
    "plt.show()"
   ]
  },
  {
   "cell_type": "code",
   "execution_count": 29,
   "id": "9c11b415",
   "metadata": {},
   "outputs": [
    {
     "data": {
      "image/png": "[encoded data removed]",
      "text/plain": [
       "<Figure size 720x360 with 1 Axes>"
      ]
     },
     "metadata": {
      "needs_background": "light"
     },
     "output_type": "display_data"
    }
   ],
   "source": [
    "plt.figure(figsize=(10, 5))\n",
    "plt.plot(medians.index[1:], medians.values[1:], marker='o', color='orange')\n",
    "plt.xlabel('Tests')\n",
    "plt.ylabel('Median Score')\n",
    "plt.title('Median Scores for Each Test')\n",
    "plt.show()"
   ]
  },
  {
   "cell_type": "code",
   "execution_count": 30,
   "id": "aec018a6",
   "metadata": {
    "scrolled": true
   },
   "outputs": [
    {
     "data": {
      "image/png": "[encoded data removed]",
      "text/plain": [
       "<Figure size 720x360 with 1 Axes>"
      ]
     },
     "metadata": {
      "needs_background": "light"
     },
     "output_type": "display_data"
    }
   ],
   "source": [
    "plt.figure(figsize=(10, 5))\n",
    "df.boxplot(column=list(df.columns[1:]))\n",
    "plt.xlabel('Tests')\n",
    "plt.ylabel('Scores')\n",
    "plt.title('Box Plot of Test Scores')\n",
    "plt.show()"
   ]
  },
  {
   "cell_type": "code",
   "execution_count": 31,
   "id": "eefc3d8c",
   "metadata": {},
   "outputs": [
    {
     "ename": "SyntaxError",
     "evalue": "invalid syntax (<ipython-input-31-f39197ccd45f>, line 2)",
     "output_type": "error",
     "traceback": [
      "\u001b[1;36m  File \u001b[1;32m\"<ipython-input-31-f39197ccd45f>\"\u001b[1;36m, line \u001b[1;32m2\u001b[0m\n\u001b[1;33m    Tests 3 and 4 had substantially lower mean results, indicating that these tests presented some difficulties for the students.\u001b[0m\n\u001b[1;37m          ^\u001b[0m\n\u001b[1;31mSyntaxError\u001b[0m\u001b[1;31m:\u001b[0m invalid syntax\n"
     ]
    }
   ],
   "source": [
    "#Mean Scores for Each Test: The highest mean scores for examinations 8 and 10 show that, on average, students did better on these two examinations.\n",
    "#Tests 3 and 4 had substantially lower mean results, indicating that these tests presented some difficulties for the students.\n"
   ]
  },
  {
   "cell_type": "code",
   "execution_count": 32,
   "id": "8f12de0a",
   "metadata": {},
   "outputs": [],
   "source": [
    "#Mean Scores for Each Test: The highest mean scores for examinations 8 and 10 show that, on average, students did better on these two examinations.\n",
    "#Tests 3 and 4 had substantially lower mean results, indicating that these tests presented some difficulties for the students."
   ]
  },
  {
   "cell_type": "code",
   "execution_count": 33,
   "id": "09b99494",
   "metadata": {},
   "outputs": [],
   "source": [
    "#Tests 8, 11, and their respective median scores all had high values, which is consistent with their high mean scores. These examinations revealed that kids consistently performed well.\n",
    "#The test with the lowest median score, Test_4, showed some variation in the students' performance on this evaluation."
   ]
  },
  {
   "cell_type": "code",
   "execution_count": 34,
   "id": "29e36344",
   "metadata": {},
   "outputs": [],
   "source": [
    "#Score distribution:\n",
    "#The box plot revealed that the interquartile ranges for the tests Test_1, Test_2, Test_5, Test_6, Test_7, and Test_12 were comparatively narrow, indicating less volatility in scores.\n",
    "#Wider interquartile ranges for examinations 8 and 11 indicate more variation in the way students performed on these examinations."
   ]
  },
  {
   "cell_type": "code",
   "execution_count": null,
   "id": "e22447c2",
   "metadata": {},
   "outputs": [],
   "source": []
  }
 ],
 "metadata": {
  "kernelspec": {
   "display_name": "Python 3",
   "language": "python",
   "name": "python3"
  },
  "language_info": {
   "codemirror_mode": {
    "name": "ipython",
    "version": 3
   },
   "file_extension": ".py",
   "mimetype": "text/x-python",
   "name": "python",
   "nbconvert_exporter": "python",
   "pygments_lexer": "ipython3",
   "version": "3.8.8"
  }
 },
 "nbformat": 4,
 "nbformat_minor": 5
}
